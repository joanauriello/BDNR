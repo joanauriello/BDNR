{
  "cells": [
    {
      "cell_type": "code",
      "execution_count": 1,
      "metadata": {
        "colab": {
          "base_uri": "https://localhost:8080/"
        },
        "id": "K1lCG2yaB4_2",
        "outputId": "732633ba-3a32-4566-a14d-a365a44eb858"
      },
      "outputs": [
        {
          "output_type": "stream",
          "name": "stdout",
          "text": [
            "Collecting pymongo\n",
            "  Downloading pymongo-4.13.1-cp311-cp311-manylinux_2_17_x86_64.manylinux2014_x86_64.whl.metadata (22 kB)\n",
            "Collecting dnspython<3.0.0,>=1.16.0 (from pymongo)\n",
            "  Downloading dnspython-2.7.0-py3-none-any.whl.metadata (5.8 kB)\n",
            "Downloading pymongo-4.13.1-cp311-cp311-manylinux_2_17_x86_64.manylinux2014_x86_64.whl (1.4 MB)\n",
            "\u001b[2K   \u001b[90m━━━━━━━━━━━━━━━━━━━━━━━━━━━━━━━━━━━━━━━━\u001b[0m \u001b[32m1.4/1.4 MB\u001b[0m \u001b[31m21.5 MB/s\u001b[0m eta \u001b[36m0:00:00\u001b[0m\n",
            "\u001b[?25hDownloading dnspython-2.7.0-py3-none-any.whl (313 kB)\n",
            "\u001b[2K   \u001b[90m━━━━━━━━━━━━━━━━━━━━━━━━━━━━━━━━━━━━━━━━\u001b[0m \u001b[32m313.6/313.6 kB\u001b[0m \u001b[31m9.9 MB/s\u001b[0m eta \u001b[36m0:00:00\u001b[0m\n",
            "\u001b[?25hInstalling collected packages: dnspython, pymongo\n",
            "Successfully installed dnspython-2.7.0 pymongo-4.13.1\n",
            "Conexion exitosa. Colecciones disponibles:\n",
            "['video_views', 'dim_media', 'dim_location', 'users', 'dim_plataform', 'clients', 'media', 'fact_vod_uu_details', 'dim_date', 'dim_device', 'dim_client', 'dim_partner']\n"
          ]
        }
      ],
      "source": [
        "#Instalamos mongo y cargamos la base de datos\n",
        "\n",
        "!pip install pymongo\n",
        "\n",
        "from pymongo import MongoClient\n",
        "\n",
        "# Parametros de conexion\n",
        "usuario = \"lab_user\"\n",
        "password = \"bdnr2025\"\n",
        "host = \"bdnr-2025-auriello-moli.u17itbj.mongodb.net\"\n",
        "db_name = \"tarea_final\"\n",
        "\n",
        "# URI de conexión a Mongodb atlas\n",
        "uri = f\"mongodb+srv://{usuario}:{password}@{host}/{db_name}?retryWrites=true&w=majority&appName=bdnr-2025-auriello-molina\"\n",
        "\n",
        "# creamos el cliente de conexión\n",
        "client = MongoClient(uri)\n",
        "\n",
        "# accedemos a la base de datos\n",
        "db = client[db_name]\n",
        "\n",
        "# Probar conexión listando las colecciones\n",
        "print(\"Conexion exitosa. Colecciones disponibles:\")\n",
        "print(db.list_collection_names())"
      ]
    },
    {
      "cell_type": "markdown",
      "metadata": {
        "id": "sibyCgdksjva"
      },
      "source": [
        "# **Exploración inicial del dataset**"
      ]
    },
    {
      "cell_type": "code",
      "execution_count": null,
      "metadata": {
        "colab": {
          "base_uri": "https://localhost:8080/"
        },
        "id": "pE6NJTwdsrvm",
        "outputId": "c8fe260b-ed6c-470e-aa36-fed02629bc56"
      },
      "outputs": [
        {
          "output_type": "stream",
          "name": "stdout",
          "text": [
            "Colecciones disponibles en la base de datos y su tamaño:\n",
            " - video_views: 215347 documentos\n",
            " - dim_media: 70058 documentos\n",
            " - dim_location: 342 documentos\n",
            " - users: 34769 documentos\n",
            " - dim_plataform: 13 documentos\n",
            " - clients: 6 documentos\n",
            " - media: 70058 documentos\n",
            " - fact_vod_uu_details: 215347 documentos\n",
            " - dim_date: 10847 documentos\n",
            " - dim_device: 23547 documentos\n",
            " - dim_client: 3 documentos\n",
            " - dim_partner: 74858 documentos\n"
          ]
        }
      ],
      "source": [
        "##Exploración inicial de la base de datos\n",
        "\n",
        "# Listar todas las colecciones y mostrar cuántos documentos hay en cada una\n",
        "\n",
        "print(\"Colecciones disponibles en la base de datos y su tamaño:\")\n",
        "for collection_name in db.list_collection_names():\n",
        "    count = db[collection_name].count_documents({})\n",
        "    print(f\" - {collection_name}: {count} documentos\")\n",
        "\n"
      ]
    },
    {
      "cell_type": "code",
      "execution_count": null,
      "metadata": {
        "colab": {
          "base_uri": "https://localhost:8080/"
        },
        "id": "Cp-6V3zyuFSe",
        "outputId": "3ed460d7-7cee-497b-a653-4dda46bf8a2f"
      },
      "outputs": [
        {
          "output_type": "stream",
          "name": "stdout",
          "text": [
            "\n",
            "📄 Documento ejemplo de la colección: video_views\n",
            "{'_id': ObjectId('683dfda82d64dba076265475'),\n",
            " 'client': {'client_id': 'tg', 'client_name': 'Toon Goggles'},\n",
            " 'date': {'date_code': 20250509, 'full_date': '2025-05-09'},\n",
            " 'device': {'device_type_id': 'tv', 'device_type_name': 'TV'},\n",
            " 'location': {'country_code': 'US', 'country_name': 'United States'},\n",
            " 'media': {'category_name': 'N/A',\n",
            "           'media_id': 284074,\n",
            "           'media_name': 'Suzy and The Pothole',\n",
            "           'video_type': 'Episode'},\n",
            " 'partner': {'partner_id': 'viziosmartcast', 'partner_name': 'Vizio Smartcast'},\n",
            " 'platform': {'platform_id': 'html5', 'platform_name': 'HTML5'},\n",
            " 'seconds_elapsed': 358,\n",
            " 'user_id': '4c8f120a1d08d1d94ec21dabbc0b3549f26ab431'}\n",
            "\n",
            "📄 Documento ejemplo de la colección: dim_media\n",
            "{'_id': ObjectId('68333a654e58b8a122cf5d52'),\n",
            " 'category_name': 'Unknown',\n",
            " 'id': 352389,\n",
            " 'media_id': -99,\n",
            " 'media_name': 'Unknown',\n",
            " 'video_type': 'Unknown'}\n",
            "\n",
            "📄 Documento ejemplo de la colección: dim_location\n",
            "{'_id': ObjectId('68333a5a4e58b8a122cf5bfb'),\n",
            " 'country_code': 'US',\n",
            " 'country_name': 'United States',\n",
            " 'us_state_name': 'ALABAMA'}\n",
            "\n",
            "📄 Documento ejemplo de la colección: dim_plataform\n",
            "{'_id': ObjectId('68333a974e58b8a122d19369'),\n",
            " 'id': 5,\n",
            " 'platform_id': 'web',\n",
            " 'platform_name': 'Web'}\n",
            "\n",
            "📄 Documento ejemplo de la colección: clients\n",
            "{'_id': ObjectId('683377c02bda2666c61415ad'),\n",
            " 'client_id': 'run',\n",
            " 'client_name': 'Runtime',\n",
            " 'countries': ['United States',\n",
            "               'Spain',\n",
            "               'France',\n",
            "               'Germany',\n",
            "               'Italy',\n",
            "               'Peru',\n",
            "               'Ecuador',\n",
            "               'Colombia',\n",
            "               'United Kingdom',\n",
            "               'Switzerland',\n",
            "               'Australia',\n",
            "               'Honduras',\n",
            "               'China',\n",
            "               'Bolivia',\n",
            "               'Paraguay',\n",
            "               'Panama',\n",
            "               'Canada',\n",
            "               'Costa Rica',\n",
            "               'Nicaragua',\n",
            "               'Iran',\n",
            "               'Turkey',\n",
            "               'Argentina',\n",
            "               'Puerto Rico',\n",
            "               'El Salvador',\n",
            "               'Dominican Republic',\n",
            "               'India',\n",
            "               'Suriname',\n",
            "               'Uruguay',\n",
            "               'Mexico',\n",
            "               'Cuba',\n",
            "               'Venezuela',\n",
            "               'Brazil',\n",
            "               'Chile',\n",
            "               'Guatemala'],\n",
            " 'id': 104,\n",
            " 'inserted_at': '2022-09-25 18:39:01.340033',\n",
            " 'ocd': 0,\n",
            " 'partners': [{'partner_id': 'android', 'partner_name': 'General Android'},\n",
            "              {'partner_id': 'internal', 'partner_name': 'Internal'},\n",
            "              {'partner_id': 'sony', 'partner_name': 'Sony'},\n",
            "              {'partner_id': 'philips', 'partner_name': 'Philips'},\n",
            "              {'partner_id': 'sonytv', 'partner_name': 'Sony TV'},\n",
            "              {'partner_id': 'hisense', 'partner_name': 'Hisense'},\n",
            "              {'partner_id': 'xiaomi', 'partner_name': 'Xiaomi'},\n",
            "              {'partner_id': 'viziosmartcast',\n",
            "               'partner_name': 'Vizio Smartcast'},\n",
            "              {'partner_id': 'tcl', 'partner_name': 'TCL'},\n",
            "              {'partner_id': 'roku', 'partner_name': 'Roku'},\n",
            "              {'partner_id': 'amazon', 'partner_name': 'Amazon'},\n",
            "              {'partner_id': 'samsungtv',\n",
            "               'partner_name': 'Samsung Televisions'},\n",
            "              {'partner_id': 'apple', 'partner_name': 'Apple'},\n",
            "              {'partner_id': 'skyworth', 'partner_name': 'Skyworth'},\n",
            "              {'partner_id': 'lgelectronics',\n",
            "               'partner_name': 'LG Electronics'}],\n",
            " 'updated_at': '2023-08-18 16:34:48'}\n",
            "\n",
            "📄 Documento ejemplo de la colección: media\n",
            "{'_id': ObjectId('683e00f52d64dba076299da8'),\n",
            " 'category_name': 'Unknown',\n",
            " 'media_id': -99,\n",
            " 'media_name': 'Unknown',\n",
            " 'video_type': 'Unknown'}\n",
            "\n",
            "📄 Documento ejemplo de la colección: fact_vod_uu_details\n",
            "{'_id': ObjectId('68349ee25a0ddfac862bf708'),\n",
            " 'category_name': 'N/A',\n",
            " 'client_id': 'tg',\n",
            " 'client_name': 'Toon Goggles',\n",
            " 'country_code': 'US',\n",
            " 'country_name': 'United States',\n",
            " 'date_code': 20250509,\n",
            " 'device_type_id': 'tv',\n",
            " 'device_type_name': 'TV',\n",
            " 'full_date': '2025-05-09',\n",
            " 'hours_watched': 0.099444,\n",
            " 'media_id': 284074,\n",
            " 'media_name': 'Suzy and The Pothole',\n",
            " 'minutes_watched': 5.9666,\n",
            " 'partner_id': 'viziosmartcast',\n",
            " 'partner_name': 'Vizio Smartcast',\n",
            " 'platform_id': 'html5',\n",
            " 'platform_name': 'HTML5',\n",
            " 'seconds_watched': 358,\n",
            " 'sessions': 1,\n",
            " 'uuid_hashvalue': '4c8f120a1d08d1d94ec21dabbc0b3549f26ab431',\n",
            " 'video_type': 'Episode'}\n",
            "\n",
            "📄 Documento ejemplo de la colección: dim_date\n",
            "{'_id': ObjectId('68333a3d4e58b8a122ced59f'),\n",
            " 'date_code': 20250502,\n",
            " 'full_date': '2025-05-02'}\n",
            "\n",
            "📄 Documento ejemplo de la colección: dim_device\n",
            "{'_id': ObjectId('68333a4a4e58b8a122ceffff'),\n",
            " 'device_type_id': 'tablet',\n",
            " 'device_type_name': 'Tablet',\n",
            " 'id': 259}\n",
            "\n",
            "📄 Documento ejemplo de la colección: dim_client\n",
            "{'_id': ObjectId('683cacbb44fd03eab3545c82'),\n",
            " 'client_id': 'run',\n",
            " 'client_name': 'Runtime',\n",
            " 'id': 104,\n",
            " 'inserted_at': '2022-09-25 18:39:01.340033',\n",
            " 'ocd': 0,\n",
            " 'updated_at': '2023-08-18 16:34:48'}\n",
            "\n",
            "📄 Documento ejemplo de la colección: dim_partner\n",
            "{'_id': ObjectId('68333a8a4e58b8a122d06efe'),\n",
            " 'id': 31637,\n",
            " 'partner_id': 'shahid',\n",
            " 'partner_name': 'Shahid'}\n"
          ]
        }
      ],
      "source": [
        "from pprint import pprint\n",
        "\n",
        "# Mostrar un documento de ejemplo de cada colección para ver como estan estructurados (tipos de datos, campos embedded, keys)\n",
        "for collection_name in db.list_collection_names():\n",
        "    print(f\"\\n📄 Documento ejemplo de la colección: {collection_name}\")\n",
        "    doc = db[collection_name].find_one()\n",
        "    pprint(doc)\n"
      ]
    },
    {
      "cell_type": "markdown",
      "metadata": {
        "id": "oPMyyfScyh-e"
      },
      "source": [
        "# **Transformaciones**"
      ]
    },
    {
      "cell_type": "markdown",
      "metadata": {
        "id": "koXP4fJJyl6A"
      },
      "source": [
        "Agregar campo countries a collección de clientes"
      ]
    },
    {
      "cell_type": "code",
      "execution_count": null,
      "metadata": {
        "colab": {
          "base_uri": "https://localhost:8080/"
        },
        "id": "b56AtGk2ysBR",
        "outputId": "b6f44aae-919e-46d2-9a70-619a601c60b5"
      },
      "outputs": [
        {
          "name": "stdout",
          "output_type": "stream",
          "text": [
            "tg ['India', 'Mozambique', 'Dominica', 'Saint Lucia', 'China', 'Antigua and Barbuda', 'Liberia', 'Egypt', 'Puerto Rico', 'Tanzania', 'Togo', 'Palestinian Territories', 'Russia', 'Saint Vincent and the Grenadines', 'Réunion', 'Syria', 'Guadeloupe', 'Niger', 'Sri Lanka', 'Netherlands', 'Maldives', 'Chile', 'New Zealand', 'Kenya', 'Oman', 'South Sudan', 'Macedonia', 'Peru', 'Côte d’Ivoire', 'Nepal', 'Paraguay', 'Belarus', 'Panama', 'Qatar', 'Mayotte', 'Hungary', 'French Guiana', 'Slovakia', 'Georgia', 'Lebanon', 'United Arab Emirates', 'Philippines', 'Kazakhstan', 'Estonia', 'Trinidad and Tobago', 'Tajikistan', 'Turks and Caicos Islands', 'Uruguay', 'Palau', 'Greenland', 'Laos', 'Azerbaijan', 'Bolivia', 'Gambia', 'Brazil', 'Ethiopia', 'Zambia', 'Bosnia and Herzegovina', 'Barbados', 'Nicaragua', 'Austria', 'Libya', 'Bahamas', 'Norway', 'Martinique', 'Mauritania', 'Afghanistan', 'Poland', 'Equatorial Guinea', 'Congo - Brazzaville', 'Kyrgyzstan', 'Mauritius', 'United States', 'Cambodia', 'Greece', 'Vietnam', 'Guinea', 'United Kingdom', 'Denmark', 'Belize', 'Cape Verde', 'Taiwan', 'Congo - Kinshasa', 'Lesotho', 'Mongolia', 'Tunisia', 'Curaçao', 'Djibouti', 'Bulgaria', 'Malawi', 'Solomon Islands', 'Moldova', 'Micronesia', 'Benin', 'Canada', 'South Africa', 'Iraq', 'Honduras', 'Australia', 'Japan', 'Montserrat', 'Botswana', 'Indonesia', 'Bermuda', 'São Tomé and Príncipe', 'Turkey', 'Monaco', 'Uganda', 'Lithuania', 'Venezuela', 'Guinea-Bissau', 'Sweden', 'South Korea', 'Singapore', 'Ecuador', 'Grenada', 'Cyprus', 'Montenegro', 'Guatemala', 'Israel', 'Morocco', 'New Caledonia', 'Algeria', 'Madagascar', 'Italy', 'Latvia', 'Caribbean Netherlands', 'Haiti', 'Papua New Guinea', 'Burundi', 'Germany', 'Thailand', 'Burkina Faso', 'Hong Kong', 'Cuba', 'Croatia', 'Colombia', 'Pakistan', 'Slovenia', 'Ghana', 'Romania', 'Nigeria', 'Serbia', 'Somalia', 'France', 'Guyana', 'Albania', 'Argentina', 'Zimbabwe', 'Seychelles', 'Iceland', 'Costa Rica', 'El Salvador', 'Swaziland', 'Rwanda', 'Timor-Leste', 'Bangladesh', 'Brunei', 'Sierra Leone', 'Myanmar [Burma]', 'Mali', 'Ireland', 'Czech Republic', 'Finland', 'Switzerland', 'Cameroon', 'Aruba', 'Spain', 'Malta', 'Senegal', 'Northern Mariana Islands', 'Angola', 'Luxembourg', 'Belgium', 'Jamaica', 'Portugal', 'American Samoa', 'Dominican Republic', 'Jordan', 'Armenia', 'Bahrain', 'Malaysia', 'Vanuatu', 'Ukraine', 'Iran', 'Yemen', 'Kuwait', 'Uzbekistan', 'Namibia', 'Mexico', 'Suriname', 'Gabon', 'Fiji', 'Tonga', 'Saudi Arabia']\n"
          ]
        }
      ],
      "source": [
        "#Hacemos el aggregate de paises para un client id\n",
        "pipeline = [\n",
        "      {\n",
        "          \"$group\": {\n",
        "              \"_id\": \"$client_id\",\n",
        "              \"countries\": { \"$addToSet\": \"$country_name\" }  # Use $country_code if needed\n",
        "          }\n",
        "      }\n",
        "  ]\n",
        "\n",
        "results = db.fact_vod_uu_details_mod.aggregate(pipeline)\n",
        "\n",
        "# Step 2: Listamos los paises en los que se utiliza cada servicio\n",
        "for doc in results:\n",
        "    client_id = doc[\"_id\"]\n",
        "    countries = doc[\"countries\"]\n",
        "    print(client_id, countries)"
      ]
    },
    {
      "cell_type": "markdown",
      "metadata": {
        "id": "gHefNK9m1Ryg"
      },
      "source": [
        "Creamos una función para obtener la lista de paises y asignarselos a la colección de clientes"
      ]
    },
    {
      "cell_type": "code",
      "execution_count": null,
      "metadata": {
        "colab": {
          "base_uri": "https://localhost:8080/"
        },
        "id": "elZ04dzz3QQ0",
        "outputId": "0038ca1b-2185-4db9-f1c6-e7edbec222cb"
      },
      "outputs": [
        {
          "name": "stdout",
          "output_type": "stream",
          "text": [
            "Updated client_id=tg, matched=1, modified=1\n"
          ]
        }
      ],
      "source": [
        "def update_client_countries():\n",
        "    # Step 1: Aggregate countries per client_id\n",
        "    pipeline = [\n",
        "      {\n",
        "          \"$group\": {\n",
        "              \"_id\": \"$client_id\",\n",
        "              \"countries\": { \"$addToSet\": \"$country_name\" }  # Use $country_code if needed\n",
        "          }\n",
        "      }\n",
        "    ]\n",
        "\n",
        "    results = db.fact_vod_uu_details_mod.aggregate(pipeline)\n",
        "\n",
        "    # Step 2: Update each client with the countries list\n",
        "    for doc in results:\n",
        "        client_id = doc[\"_id\"]\n",
        "        countries = doc[\"countries\"]\n",
        "\n",
        "        result = db.dim_client.update_one(\n",
        "            { \"client_id\": client_id },           # Adjust this if your key is different\n",
        "            { \"$set\": { \"countries\": countries } },\n",
        "            upsert=False                          # Change to True if you want to insert if missing\n",
        "        )\n",
        "\n",
        "        print(f\"Updated client_id={client_id}, matched={result.matched_count}, modified={result.modified_count}\")\n",
        "\n",
        "#    client.close()\n",
        "\n",
        "if __name__ == \"__main__\":\n",
        "    update_client_countries()\n"
      ]
    },
    {
      "cell_type": "markdown",
      "metadata": {
        "id": "noo0_KQ0_uGo"
      },
      "source": [
        "Agregar los dispositivos"
      ]
    },
    {
      "cell_type": "code",
      "execution_count": null,
      "metadata": {
        "colab": {
          "base_uri": "https://localhost:8080/"
        },
        "id": "LWBug2VM_tnh",
        "outputId": "f0540b33-f8cc-4057-83a8-d11e10fcbdf2"
      },
      "outputs": [
        {
          "name": "stdout",
          "output_type": "stream",
          "text": [
            "Updated client_id=tg, matched=1, modified=1\n"
          ]
        }
      ],
      "source": [
        "def update_client_partners():\n",
        "    pipeline = [\n",
        "        {\n",
        "            \"$group\": {\n",
        "                \"_id\": \"$client_id\",\n",
        "                \"partners\": {\n",
        "                    \"$addToSet\": {\n",
        "                        \"partner_id\": \"$partner_id\",\n",
        "                        \"partner_name\": \"$partner_name\"\n",
        "                    }\n",
        "                }\n",
        "            }\n",
        "        }\n",
        "    ]\n",
        "\n",
        "    results = db.fact_vod_uu_details.aggregate(pipeline)\n",
        "\n",
        "    for doc in results:\n",
        "        client_id = doc[\"_id\"]\n",
        "        partners = doc[\"partners\"]\n",
        "\n",
        "        result = db.dim_client.update_one(\n",
        "            { \"client_id\": client_id },\n",
        "            { \"$set\": { \"partners\": partners } },\n",
        "            upsert=True\n",
        "        )\n",
        "\n",
        "        print(f\"Updated client_id={client_id}, matched={result.matched_count}, modified={result.modified_count}\")\n",
        "\n",
        "\n",
        "if __name__ == \"__main__\":\n",
        "    update_client_partners()\n"
      ]
    },
    {
      "cell_type": "markdown",
      "metadata": {
        "id": "SUdpQ5tT-L8d"
      },
      "source": [
        "Agregaremos Paises a Users #Agregar colleccion users"
      ]
    },
    {
      "cell_type": "code",
      "execution_count": null,
      "metadata": {
        "colab": {
          "base_uri": "https://localhost:8080/"
        },
        "id": "1o9D1DUD-Tza",
        "outputId": "a7be3a84-de65-4c05-d395-f104e339d67a"
      },
      "outputs": [
        {
          "name": "stdout",
          "output_type": "stream",
          "text": [
            "Updated client_id=tg, matched=1, modified=1\n"
          ]
        }
      ],
      "source": [
        "def update_users_countries():\n",
        "    # Step 1: Aggregate countries per client_id\n",
        "    pipeline = [\n",
        "      {\n",
        "          \"$group\": {\n",
        "              \"_id\": \"$client_id\",\n",
        "              \"countries\": { \"$addToSet\": \"$country_name\" }  # Use $country_code if needed\n",
        "          }\n",
        "      }\n",
        "    ]\n",
        "\n",
        "    results = db.fact_vod_uu_details.aggregate(pipeline)\n",
        "\n",
        "    # Step 2: Update each client with the countries list\n",
        "    for doc in results:\n",
        "        client_id = doc[\"_id\"]\n",
        "        countries = doc[\"countries\"]\n",
        "\n",
        "        result = db.dim_client.update_one(\n",
        "            { \"client_id\": client_id },           # Adjust this if your key is different\n",
        "            { \"$set\": { \"countries\": countries } },\n",
        "            upsert=False                          # Change to True if you want to insert if missing\n",
        "        )\n",
        "\n",
        "        print(f\"Updated client_id={client_id}, matched={result.matched_count}, modified={result.modified_count}\")\n",
        "\n",
        "#    client.close()\n",
        "\n",
        "if __name__ == \"__main__\":\n",
        "    update_client_countries()\n"
      ]
    },
    {
      "cell_type": "markdown",
      "metadata": {
        "id": "SeSN2NNpdhk6"
      },
      "source": [
        "## **Creacion de las colecciones de nuestra base de datos no relacional - documental**\n",
        "\n"
      ]
    },
    {
      "cell_type": "markdown",
      "metadata": {
        "id": "uD5dTNi2moyl"
      },
      "source": [
        "### **Coleccion clients**\n",
        "\n",
        "Copiamos dim_clients que fue modificado para contemplar el diseno no relacional a la coleccion clients, y luego lo droppeamos. Despues, procedemos a subir el archivo original de dim_clients de la base de datos relacional."
      ]
    },
    {
      "cell_type": "code",
      "execution_count": null,
      "metadata": {
        "colab": {
          "base_uri": "https://localhost:8080/"
        },
        "id": "5XcH3edwmsKZ",
        "outputId": "94d364d4-4d29-467d-a3fa-38a1503af179"
      },
      "outputs": [
        {
          "name": "stdout",
          "output_type": "stream",
          "text": [
            "dim_client que fue modificado se renombra a clients\n"
          ]
        }
      ],
      "source": [
        "# Copio todos los docuemntos en dim_client a clients\n",
        "db[\"clients\"].insert_many(db[\"dim_client\"].find({}))\n",
        "\n",
        "# Drop dim_client modificada\n",
        "db[\"dim_client\"].drop()\n",
        "\n",
        "print(\"dim_client que fue modificado se renombra a clients\")\n"
      ]
    },
    {
      "cell_type": "code",
      "execution_count": null,
      "metadata": {
        "colab": {
          "background_save": true,
          "base_uri": "https://localhost:8080/",
          "height": 38
        },
        "id": "C65IAj2Qp1UV",
        "outputId": "77c746ff-b612-44d9-95cb-5598cd706429"
      },
      "outputs": [
        {
          "data": {
            "text/html": [
              "\n",
              "     <input type=\"file\" id=\"files-c153acdf-2306-4028-97fb-70183c265c97\" name=\"files[]\" multiple disabled\n",
              "        style=\"border:none\" />\n",
              "     <output id=\"result-c153acdf-2306-4028-97fb-70183c265c97\">\n",
              "      Upload widget is only available when the cell has been executed in the\n",
              "      current browser session. Please rerun this cell to enable.\n",
              "      </output>\n",
              "      <script>// Copyright 2017 Google LLC\n",
              "//\n",
              "// Licensed under the Apache License, Version 2.0 (the \"License\");\n",
              "// you may not use this file except in compliance with the License.\n",
              "// You may obtain a copy of the License at\n",
              "//\n",
              "//      http://www.apache.org/licenses/LICENSE-2.0\n",
              "//\n",
              "// Unless required by applicable law or agreed to in writing, software\n",
              "// distributed under the License is distributed on an \"AS IS\" BASIS,\n",
              "// WITHOUT WARRANTIES OR CONDITIONS OF ANY KIND, either express or implied.\n",
              "// See the License for the specific language governing permissions and\n",
              "// limitations under the License.\n",
              "\n",
              "/**\n",
              " * @fileoverview Helpers for google.colab Python module.\n",
              " */\n",
              "(function(scope) {\n",
              "function span(text, styleAttributes = {}) {\n",
              "  const element = document.createElement('span');\n",
              "  element.textContent = text;\n",
              "  for (const key of Object.keys(styleAttributes)) {\n",
              "    element.style[key] = styleAttributes[key];\n",
              "  }\n",
              "  return element;\n",
              "}\n",
              "\n",
              "// Max number of bytes which will be uploaded at a time.\n",
              "const MAX_PAYLOAD_SIZE = 100 * 1024;\n",
              "\n",
              "function _uploadFiles(inputId, outputId) {\n",
              "  const steps = uploadFilesStep(inputId, outputId);\n",
              "  const outputElement = document.getElementById(outputId);\n",
              "  // Cache steps on the outputElement to make it available for the next call\n",
              "  // to uploadFilesContinue from Python.\n",
              "  outputElement.steps = steps;\n",
              "\n",
              "  return _uploadFilesContinue(outputId);\n",
              "}\n",
              "\n",
              "// This is roughly an async generator (not supported in the browser yet),\n",
              "// where there are multiple asynchronous steps and the Python side is going\n",
              "// to poll for completion of each step.\n",
              "// This uses a Promise to block the python side on completion of each step,\n",
              "// then passes the result of the previous step as the input to the next step.\n",
              "function _uploadFilesContinue(outputId) {\n",
              "  const outputElement = document.getElementById(outputId);\n",
              "  const steps = outputElement.steps;\n",
              "\n",
              "  const next = steps.next(outputElement.lastPromiseValue);\n",
              "  return Promise.resolve(next.value.promise).then((value) => {\n",
              "    // Cache the last promise value to make it available to the next\n",
              "    // step of the generator.\n",
              "    outputElement.lastPromiseValue = value;\n",
              "    return next.value.response;\n",
              "  });\n",
              "}\n",
              "\n",
              "/**\n",
              " * Generator function which is called between each async step of the upload\n",
              " * process.\n",
              " * @param {string} inputId Element ID of the input file picker element.\n",
              " * @param {string} outputId Element ID of the output display.\n",
              " * @return {!Iterable<!Object>} Iterable of next steps.\n",
              " */\n",
              "function* uploadFilesStep(inputId, outputId) {\n",
              "  const inputElement = document.getElementById(inputId);\n",
              "  inputElement.disabled = false;\n",
              "\n",
              "  const outputElement = document.getElementById(outputId);\n",
              "  outputElement.innerHTML = '';\n",
              "\n",
              "  const pickedPromise = new Promise((resolve) => {\n",
              "    inputElement.addEventListener('change', (e) => {\n",
              "      resolve(e.target.files);\n",
              "    });\n",
              "  });\n",
              "\n",
              "  const cancel = document.createElement('button');\n",
              "  inputElement.parentElement.appendChild(cancel);\n",
              "  cancel.textContent = 'Cancel upload';\n",
              "  const cancelPromise = new Promise((resolve) => {\n",
              "    cancel.onclick = () => {\n",
              "      resolve(null);\n",
              "    };\n",
              "  });\n",
              "\n",
              "  // Wait for the user to pick the files.\n",
              "  const files = yield {\n",
              "    promise: Promise.race([pickedPromise, cancelPromise]),\n",
              "    response: {\n",
              "      action: 'starting',\n",
              "    }\n",
              "  };\n",
              "\n",
              "  cancel.remove();\n",
              "\n",
              "  // Disable the input element since further picks are not allowed.\n",
              "  inputElement.disabled = true;\n",
              "\n",
              "  if (!files) {\n",
              "    return {\n",
              "      response: {\n",
              "        action: 'complete',\n",
              "      }\n",
              "    };\n",
              "  }\n",
              "\n",
              "  for (const file of files) {\n",
              "    const li = document.createElement('li');\n",
              "    li.append(span(file.name, {fontWeight: 'bold'}));\n",
              "    li.append(span(\n",
              "        `(${file.type || 'n/a'}) - ${file.size} bytes, ` +\n",
              "        `last modified: ${\n",
              "            file.lastModifiedDate ? file.lastModifiedDate.toLocaleDateString() :\n",
              "                                    'n/a'} - `));\n",
              "    const percent = span('0% done');\n",
              "    li.appendChild(percent);\n",
              "\n",
              "    outputElement.appendChild(li);\n",
              "\n",
              "    const fileDataPromise = new Promise((resolve) => {\n",
              "      const reader = new FileReader();\n",
              "      reader.onload = (e) => {\n",
              "        resolve(e.target.result);\n",
              "      };\n",
              "      reader.readAsArrayBuffer(file);\n",
              "    });\n",
              "    // Wait for the data to be ready.\n",
              "    let fileData = yield {\n",
              "      promise: fileDataPromise,\n",
              "      response: {\n",
              "        action: 'continue',\n",
              "      }\n",
              "    };\n",
              "\n",
              "    // Use a chunked sending to avoid message size limits. See b/62115660.\n",
              "    let position = 0;\n",
              "    do {\n",
              "      const length = Math.min(fileData.byteLength - position, MAX_PAYLOAD_SIZE);\n",
              "      const chunk = new Uint8Array(fileData, position, length);\n",
              "      position += length;\n",
              "\n",
              "      const base64 = btoa(String.fromCharCode.apply(null, chunk));\n",
              "      yield {\n",
              "        response: {\n",
              "          action: 'append',\n",
              "          file: file.name,\n",
              "          data: base64,\n",
              "        },\n",
              "      };\n",
              "\n",
              "      let percentDone = fileData.byteLength === 0 ?\n",
              "          100 :\n",
              "          Math.round((position / fileData.byteLength) * 100);\n",
              "      percent.textContent = `${percentDone}% done`;\n",
              "\n",
              "    } while (position < fileData.byteLength);\n",
              "  }\n",
              "\n",
              "  // All done.\n",
              "  yield {\n",
              "    response: {\n",
              "      action: 'complete',\n",
              "    }\n",
              "  };\n",
              "}\n",
              "\n",
              "scope.google = scope.google || {};\n",
              "scope.google.colab = scope.google.colab || {};\n",
              "scope.google.colab._files = {\n",
              "  _uploadFiles,\n",
              "  _uploadFilesContinue,\n",
              "};\n",
              "})(self);\n",
              "</script> "
            ],
            "text/plain": [
              "<IPython.core.display.HTML object>"
            ]
          },
          "metadata": {},
          "output_type": "display_data"
        },
        {
          "ename": "TypeError",
          "evalue": "'NoneType' object is not subscriptable",
          "output_type": "error",
          "traceback": [
            "\u001b[0;31m---------------------------------------------------------------------------\u001b[0m",
            "\u001b[0;31mTypeError\u001b[0m                                 Traceback (most recent call last)",
            "\u001b[0;32m<ipython-input-9-5dc9de2c40b6>\u001b[0m in \u001b[0;36m<cell line: 0>\u001b[0;34m()\u001b[0m\n\u001b[1;32m      3\u001b[0m \u001b[0;34m\u001b[0m\u001b[0m\n\u001b[1;32m      4\u001b[0m \u001b[0;31m# Abre diálogo para subir archivos (elige dim_client.json)\u001b[0m\u001b[0;34m\u001b[0m\u001b[0;34m\u001b[0m\u001b[0m\n\u001b[0;32m----> 5\u001b[0;31m \u001b[0muploaded\u001b[0m \u001b[0;34m=\u001b[0m \u001b[0mfiles\u001b[0m\u001b[0;34m.\u001b[0m\u001b[0mupload\u001b[0m\u001b[0;34m(\u001b[0m\u001b[0;34m)\u001b[0m\u001b[0;34m\u001b[0m\u001b[0;34m\u001b[0m\u001b[0m\n\u001b[0m",
            "\u001b[0;32m/usr/local/lib/python3.11/dist-packages/google/colab/files.py\u001b[0m in \u001b[0;36mupload\u001b[0;34m(target_dir)\u001b[0m\n\u001b[1;32m     70\u001b[0m   \"\"\"\n\u001b[1;32m     71\u001b[0m \u001b[0;34m\u001b[0m\u001b[0m\n\u001b[0;32m---> 72\u001b[0;31m   \u001b[0muploaded_files\u001b[0m \u001b[0;34m=\u001b[0m \u001b[0m_upload_files\u001b[0m\u001b[0;34m(\u001b[0m\u001b[0mmultiple\u001b[0m\u001b[0;34m=\u001b[0m\u001b[0;32mTrue\u001b[0m\u001b[0;34m)\u001b[0m\u001b[0;34m\u001b[0m\u001b[0;34m\u001b[0m\u001b[0m\n\u001b[0m\u001b[1;32m     73\u001b[0m   \u001b[0;31m# Mapping from original filename to filename as saved locally.\u001b[0m\u001b[0;34m\u001b[0m\u001b[0;34m\u001b[0m\u001b[0m\n\u001b[1;32m     74\u001b[0m   \u001b[0mlocal_filenames\u001b[0m \u001b[0;34m=\u001b[0m \u001b[0mdict\u001b[0m\u001b[0;34m(\u001b[0m\u001b[0;34m)\u001b[0m\u001b[0;34m\u001b[0m\u001b[0;34m\u001b[0m\u001b[0m\n",
            "\u001b[0;32m/usr/local/lib/python3.11/dist-packages/google/colab/files.py\u001b[0m in \u001b[0;36m_upload_files\u001b[0;34m(multiple)\u001b[0m\n\u001b[1;32m    169\u001b[0m   \u001b[0mfiles\u001b[0m \u001b[0;34m=\u001b[0m \u001b[0m_collections\u001b[0m\u001b[0;34m.\u001b[0m\u001b[0mdefaultdict\u001b[0m\u001b[0;34m(\u001b[0m\u001b[0mbytes\u001b[0m\u001b[0;34m)\u001b[0m\u001b[0;34m\u001b[0m\u001b[0;34m\u001b[0m\u001b[0m\n\u001b[1;32m    170\u001b[0m \u001b[0;34m\u001b[0m\u001b[0m\n\u001b[0;32m--> 171\u001b[0;31m   \u001b[0;32mwhile\u001b[0m \u001b[0mresult\u001b[0m\u001b[0;34m[\u001b[0m\u001b[0;34m'action'\u001b[0m\u001b[0;34m]\u001b[0m \u001b[0;34m!=\u001b[0m \u001b[0;34m'complete'\u001b[0m\u001b[0;34m:\u001b[0m\u001b[0;34m\u001b[0m\u001b[0;34m\u001b[0m\u001b[0m\n\u001b[0m\u001b[1;32m    172\u001b[0m     result = _output.eval_js(\n\u001b[1;32m    173\u001b[0m         'google.colab._files._uploadFilesContinue(\"{output_id}\")'.format(\n",
            "\u001b[0;31mTypeError\u001b[0m: 'NoneType' object is not subscriptable"
          ]
        }
      ],
      "source": [
        "#subo de nuevo el archivio de dim_client original\n",
        "from google.colab import files\n",
        "\n",
        "# Abre diálogo para subir archivos (elige dim_client.json)\n",
        "uploaded = files.upload()\n"
      ]
    },
    {
      "cell_type": "code",
      "execution_count": null,
      "metadata": {
        "colab": {
          "background_save": true
        },
        "id": "PQYlEdb1q3k7"
      },
      "outputs": [],
      "source": [
        "import json\n",
        "\n",
        "# Nombre del archivo\n",
        "json_filename = 'dim_client.json'\n",
        "\n",
        "# Abrimos el archivo y cargamos los datos\n",
        "with open(json_filename) as f:\n",
        "    data = json.load(f)\n",
        "\n",
        "# Restauramos la colección original\n",
        "db[\"dim_client\"].drop()  # Aseguramos que esté vacía antes de insertar\n",
        "db[\"dim_client\"].insert_many(data)\n",
        "\n",
        "print(\"La colección 'dim_client' ha sido restaurada con éxito desde el archivo original.\")\n"
      ]
    },
    {
      "cell_type": "markdown",
      "metadata": {
        "id": "y5H7movGuNZc"
      },
      "source": [
        "**Creacion de indices para acelerar consultas**"
      ]
    },
    {
      "cell_type": "code",
      "execution_count": null,
      "metadata": {
        "colab": {
          "background_save": true
        },
        "id": "Z3z0AeH-uM_g"
      },
      "outputs": [],
      "source": [
        "# Buscar cliente por ID o nombre\n",
        "db.clients.create_index(\"client_id\")\n",
        "db.clients.create_index(\"client_name\")\n",
        "\n",
        "# Búsqueda por partner dentro del array (para match específicos - ejemplo: quiero saber si mi app esta en Roku, o en Amazon)\n",
        "db.clients.create_index(\"partners.partner_id\")\n"
      ]
    },
    {
      "cell_type": "markdown",
      "metadata": {
        "id": "7jDRBdvmmesc"
      },
      "source": [
        "### **Colleccion video_views**\n",
        "\n",
        "Esta va a ser la coleccion principal de nuestro modelo no relacional"
      ]
    },
    {
      "cell_type": "code",
      "execution_count": null,
      "metadata": {
        "id": "pxmSvjeKQY77"
      },
      "outputs": [],
      "source": [
        "#db[\"video_views\"].drop()"
      ]
    },
    {
      "cell_type": "markdown",
      "source": [
        "Creamos la coleccion principal video_views a partir de fact_vod_uu_details directamente. Primero realizamos nuevamente la coneccion a MongoDB y seteamos en la URL un timeout mas alto para que no se nos desconecte de la instancia.\n",
        "\n",
        "en este codigo crearemos video_views haciendo:\n",
        "- leemos cada documento de fact_vod_uu_details\n",
        "- extraemos y simplificamos/reestructuramos los datos a un formato mas limpio (desnormalizado)\n",
        "- hacemos append a los documentos nuevos a la lista video_views_docs\n",
        "\n",
        "Hacemos una reconeccion antes del insert (para evitar timeout)\n",
        "\n",
        "Insertamos los documentos de la nueva lista en baches de a 1000 a travs de insert_many (son como 250 batches)"
      ],
      "metadata": {
        "id": "V5yRpGWeKERW"
      }
    },
    {
      "cell_type": "code",
      "execution_count": null,
      "metadata": {
        "colab": {
          "base_uri": "https://localhost:8080/"
        },
        "id": "qIyHgawWd4QT",
        "outputId": "e7a45356-a982-4f61-e7d0-b8c5a8edd9f1"
      },
      "outputs": [
        {
          "output_type": "stream",
          "name": "stdout",
          "text": [
            "Requirement already satisfied: pymongo in /usr/local/lib/python3.11/dist-packages (4.13.0)\n",
            "Requirement already satisfied: dnspython<3.0.0,>=1.16.0 in /usr/local/lib/python3.11/dist-packages (from pymongo) (2.7.0)\n",
            "Conexión exitosa. Colecciones disponibles:\n",
            "['dim_media', 'dim_location', 'dim_plataform', 'clients', 'fact_vod_uu_details', 'dim_date', 'dim_device', 'dim_client', 'dim_partner']\n",
            "Total documents to insert: 215347\n",
            "Batch 1 inserted successfully.\n",
            "Batch 2 inserted successfully.\n",
            "Batch 3 inserted successfully.\n",
            "Batch 4 inserted successfully.\n",
            "Batch 5 inserted successfully.\n",
            "Batch 6 inserted successfully.\n",
            "Batch 7 inserted successfully.\n",
            "Batch 8 inserted successfully.\n",
            "Batch 9 inserted successfully.\n",
            "Batch 10 inserted successfully.\n",
            "Batch 11 inserted successfully.\n",
            "Batch 12 inserted successfully.\n",
            "Batch 13 inserted successfully.\n",
            "Batch 14 inserted successfully.\n",
            "Batch 15 inserted successfully.\n",
            "Batch 16 inserted successfully.\n",
            "Batch 17 inserted successfully.\n",
            "Batch 18 inserted successfully.\n",
            "Batch 19 inserted successfully.\n",
            "Batch 20 inserted successfully.\n",
            "Batch 21 inserted successfully.\n",
            "Batch 22 inserted successfully.\n",
            "Batch 23 inserted successfully.\n",
            "Batch 24 inserted successfully.\n",
            "Batch 25 inserted successfully.\n",
            "Batch 26 inserted successfully.\n",
            "Batch 27 inserted successfully.\n",
            "Batch 28 inserted successfully.\n",
            "Batch 29 inserted successfully.\n",
            "Batch 30 inserted successfully.\n",
            "Batch 31 inserted successfully.\n",
            "Batch 32 inserted successfully.\n",
            "Batch 33 inserted successfully.\n",
            "Batch 34 inserted successfully.\n",
            "Batch 35 inserted successfully.\n",
            "Batch 36 inserted successfully.\n",
            "Batch 37 inserted successfully.\n",
            "Batch 38 inserted successfully.\n",
            "Batch 39 inserted successfully.\n",
            "Batch 40 inserted successfully.\n",
            "Batch 41 inserted successfully.\n",
            "Batch 42 inserted successfully.\n",
            "Batch 43 inserted successfully.\n",
            "Batch 44 inserted successfully.\n",
            "Batch 45 inserted successfully.\n",
            "Batch 46 inserted successfully.\n",
            "Batch 47 inserted successfully.\n",
            "Batch 48 inserted successfully.\n",
            "Batch 49 inserted successfully.\n",
            "Batch 50 inserted successfully.\n",
            "Batch 51 inserted successfully.\n",
            "Batch 52 inserted successfully.\n",
            "Batch 53 inserted successfully.\n",
            "Batch 54 inserted successfully.\n",
            "Batch 55 inserted successfully.\n",
            "Batch 56 inserted successfully.\n",
            "Batch 57 inserted successfully.\n",
            "Batch 58 inserted successfully.\n",
            "Batch 59 inserted successfully.\n",
            "Batch 60 inserted successfully.\n",
            "Batch 61 inserted successfully.\n",
            "Batch 62 inserted successfully.\n",
            "Batch 63 inserted successfully.\n",
            "Batch 64 inserted successfully.\n",
            "Batch 65 inserted successfully.\n",
            "Batch 66 inserted successfully.\n",
            "Batch 67 inserted successfully.\n",
            "Batch 68 inserted successfully.\n",
            "Batch 69 inserted successfully.\n",
            "Batch 70 inserted successfully.\n",
            "Batch 71 inserted successfully.\n",
            "Batch 72 inserted successfully.\n",
            "Batch 73 inserted successfully.\n",
            "Batch 74 inserted successfully.\n",
            "Batch 75 inserted successfully.\n",
            "Batch 76 inserted successfully.\n",
            "Batch 77 inserted successfully.\n",
            "Batch 78 inserted successfully.\n",
            "Batch 79 inserted successfully.\n",
            "Batch 80 inserted successfully.\n",
            "Batch 81 inserted successfully.\n",
            "Batch 82 inserted successfully.\n",
            "Batch 83 inserted successfully.\n",
            "Batch 84 inserted successfully.\n",
            "Batch 85 inserted successfully.\n",
            "Batch 86 inserted successfully.\n",
            "Batch 87 inserted successfully.\n",
            "Batch 88 inserted successfully.\n",
            "Batch 89 inserted successfully.\n",
            "Batch 90 inserted successfully.\n",
            "Batch 91 inserted successfully.\n",
            "Batch 92 inserted successfully.\n",
            "Batch 93 inserted successfully.\n",
            "Batch 94 inserted successfully.\n",
            "Batch 95 inserted successfully.\n",
            "Batch 96 inserted successfully.\n",
            "Batch 97 inserted successfully.\n",
            "Batch 98 inserted successfully.\n",
            "Batch 99 inserted successfully.\n",
            "Batch 100 inserted successfully.\n",
            "Batch 101 inserted successfully.\n",
            "Batch 102 inserted successfully.\n",
            "Batch 103 inserted successfully.\n",
            "Batch 104 inserted successfully.\n",
            "Batch 105 inserted successfully.\n",
            "Batch 106 inserted successfully.\n",
            "Batch 107 inserted successfully.\n",
            "Batch 108 inserted successfully.\n",
            "Batch 109 inserted successfully.\n",
            "Batch 110 inserted successfully.\n",
            "Batch 111 inserted successfully.\n",
            "Batch 112 inserted successfully.\n",
            "Batch 113 inserted successfully.\n",
            "Batch 114 inserted successfully.\n",
            "Batch 115 inserted successfully.\n",
            "Batch 116 inserted successfully.\n",
            "Batch 117 inserted successfully.\n",
            "Batch 118 inserted successfully.\n",
            "Batch 119 inserted successfully.\n",
            "Batch 120 inserted successfully.\n",
            "Batch 121 inserted successfully.\n",
            "Batch 122 inserted successfully.\n",
            "Batch 123 inserted successfully.\n",
            "Batch 124 inserted successfully.\n",
            "Batch 125 inserted successfully.\n",
            "Batch 126 inserted successfully.\n",
            "Batch 127 inserted successfully.\n",
            "Batch 128 inserted successfully.\n",
            "Batch 129 inserted successfully.\n",
            "Batch 130 inserted successfully.\n",
            "Batch 131 inserted successfully.\n",
            "Batch 132 inserted successfully.\n",
            "Batch 133 inserted successfully.\n",
            "Batch 134 inserted successfully.\n",
            "Batch 135 inserted successfully.\n",
            "Batch 136 inserted successfully.\n",
            "Batch 137 inserted successfully.\n",
            "Batch 138 inserted successfully.\n",
            "Batch 139 inserted successfully.\n",
            "Batch 140 inserted successfully.\n",
            "Batch 141 inserted successfully.\n",
            "Batch 142 inserted successfully.\n",
            "Batch 143 inserted successfully.\n",
            "Batch 144 inserted successfully.\n",
            "Batch 145 inserted successfully.\n",
            "Batch 146 inserted successfully.\n",
            "Batch 147 inserted successfully.\n",
            "Batch 148 inserted successfully.\n",
            "Batch 149 inserted successfully.\n",
            "Batch 150 inserted successfully.\n",
            "Batch 151 inserted successfully.\n",
            "Batch 152 inserted successfully.\n",
            "Batch 153 inserted successfully.\n",
            "Batch 154 inserted successfully.\n",
            "Batch 155 inserted successfully.\n",
            "Batch 156 inserted successfully.\n",
            "Batch 157 inserted successfully.\n",
            "Batch 158 inserted successfully.\n",
            "Batch 159 inserted successfully.\n",
            "Batch 160 inserted successfully.\n",
            "Batch 161 inserted successfully.\n",
            "Batch 162 inserted successfully.\n",
            "Batch 163 inserted successfully.\n",
            "Batch 164 inserted successfully.\n",
            "Batch 165 inserted successfully.\n",
            "Batch 166 inserted successfully.\n",
            "Batch 167 inserted successfully.\n",
            "Batch 168 inserted successfully.\n",
            "Batch 169 inserted successfully.\n",
            "Batch 170 inserted successfully.\n",
            "Batch 171 inserted successfully.\n",
            "Batch 172 inserted successfully.\n",
            "Batch 173 inserted successfully.\n",
            "Batch 174 inserted successfully.\n",
            "Batch 175 inserted successfully.\n",
            "Batch 176 inserted successfully.\n",
            "Batch 177 inserted successfully.\n",
            "Batch 178 inserted successfully.\n",
            "Batch 179 inserted successfully.\n",
            "Batch 180 inserted successfully.\n",
            "Batch 181 inserted successfully.\n",
            "Batch 182 inserted successfully.\n",
            "Batch 183 inserted successfully.\n",
            "Batch 184 inserted successfully.\n",
            "Batch 185 inserted successfully.\n",
            "Batch 186 inserted successfully.\n",
            "Batch 187 inserted successfully.\n",
            "Batch 188 inserted successfully.\n",
            "Batch 189 inserted successfully.\n",
            "Batch 190 inserted successfully.\n",
            "Batch 191 inserted successfully.\n",
            "Batch 192 inserted successfully.\n",
            "Batch 193 inserted successfully.\n",
            "Batch 194 inserted successfully.\n",
            "Batch 195 inserted successfully.\n",
            "Batch 196 inserted successfully.\n",
            "Batch 197 inserted successfully.\n",
            "Batch 198 inserted successfully.\n",
            "Batch 199 inserted successfully.\n",
            "Batch 200 inserted successfully.\n",
            "Batch 201 inserted successfully.\n",
            "Batch 202 inserted successfully.\n",
            "Batch 203 inserted successfully.\n",
            "Batch 204 inserted successfully.\n",
            "Batch 205 inserted successfully.\n",
            "Batch 206 inserted successfully.\n",
            "Batch 207 inserted successfully.\n",
            "Batch 208 inserted successfully.\n",
            "Batch 209 inserted successfully.\n",
            "Batch 210 inserted successfully.\n",
            "Batch 211 inserted successfully.\n",
            "Batch 212 inserted successfully.\n",
            "Batch 213 inserted successfully.\n",
            "Batch 214 inserted successfully.\n",
            "Batch 215 inserted successfully.\n",
            "Batch 216 inserted successfully.\n",
            "Colección 'video_views' creada con éxito en lotes.\n"
          ]
        }
      ],
      "source": [
        "# Ensure pymongo is installed\n",
        "!pip install pymongo\n",
        "\n",
        "from pymongo import MongoClient\n",
        "from pymongo.errors import BulkWriteError\n",
        "\n",
        "# Connection parameters\n",
        "usuario = \"lab_user\"\n",
        "password = \"bdnr2025\"\n",
        "host = \"bdnr-2025-auriello-moli.u17itbj.mongodb.net\"\n",
        "db_name = \"tarea_final\"\n",
        "\n",
        "# MongoDB Atlas URI with increased timeouts\n",
        "uri = f\"mongodb+srv://{usuario}:{password}@{host}/{db_name}?retryWrites=true&w=majority&appName=bdnr-2025-auriello-molina&socketTimeoutMS=60000&connectTimeoutMS=60000\"\n",
        "\n",
        "# Connect to MongoDB\n",
        "client = MongoClient(uri)\n",
        "db = client[db_name]\n",
        "\n",
        "# Optional: Test connection\n",
        "print(\"Conexión exitosa. Colecciones disponibles:\")\n",
        "print(db.list_collection_names())\n",
        "\n",
        "# Create transformed documents\n",
        "video_views_docs = []\n",
        "\n",
        "for doc in db[\"fact_vod_uu_details\"].find({}):\n",
        "    video_views_docs.append({\n",
        "        \"user_id\": doc.get(\"uuid_hashvalue\"),\n",
        "        \"date\": {\n",
        "            \"date_code\": doc.get(\"date_code\"),\n",
        "            \"full_date\": doc.get(\"full_date\")\n",
        "        },\n",
        "        \"seconds_elapsed\": doc.get(\"seconds_watched\"),\n",
        "        \"client\": {\n",
        "            \"client_id\": doc.get(\"client_id\"),\n",
        "            \"client_name\": doc.get(\"client_name\")\n",
        "        },\n",
        "        \"device\": {\n",
        "            \"device_type_id\": doc.get(\"device_type_id\"),\n",
        "            \"device_type_name\": doc.get(\"device_type_name\")\n",
        "        },\n",
        "        \"location\": {\n",
        "            \"country_code\": doc.get(\"country_code\"),\n",
        "            \"country_name\": doc.get(\"country_name\")\n",
        "        },\n",
        "        \"partner\": {\n",
        "            \"partner_id\": doc.get(\"partner_id\"),\n",
        "            \"partner_name\": doc.get(\"partner_name\")\n",
        "        },\n",
        "        \"platform\": {\n",
        "            \"platform_id\": doc.get(\"platform_id\"),\n",
        "            \"platform_name\": doc.get(\"platform_name\")\n",
        "        },\n",
        "        \"media\": {\n",
        "            \"media_id\": doc.get(\"media_id\"),\n",
        "            \"media_name\": doc.get(\"media_name\"),\n",
        "            \"category_name\": doc.get(\"category_name\"),\n",
        "            \"video_type\": doc.get(\"video_type\")\n",
        "        }\n",
        "    })\n",
        "\n",
        "print(f\"Total documents to insert: {len(video_views_docs)}\")\n",
        "\n",
        "# Reconnect before inserting (just in case of idle timeout)\n",
        "client = MongoClient(uri)\n",
        "db = client[db_name]\n",
        "\n",
        "# Insert documents in batches\n",
        "batch_size = 1000\n",
        "for i in range(0, len(video_views_docs), batch_size):\n",
        "    batch = video_views_docs[i:i + batch_size]\n",
        "    try:\n",
        "        db[\"video_views\"].insert_many(batch)\n",
        "        print(f\"Batch {i // batch_size + 1} inserted successfully.\")\n",
        "    except BulkWriteError as bwe:\n",
        "        print(f\"Error inserting batch {i // batch_size + 1}: {bwe.details}\")\n",
        "\n",
        "print(\"Colección 'video_views' creada con éxito en lotes.\")\n"
      ]
    },
    {
      "cell_type": "code",
      "execution_count": null,
      "metadata": {
        "colab": {
          "base_uri": "https://localhost:8080/"
        },
        "id": "dUs5KIp8r7Qs",
        "outputId": "e28dc4cb-a965-416d-932f-ed1e06b545f1"
      },
      "outputs": [
        {
          "output_type": "stream",
          "name": "stdout",
          "text": [
            "Primeros 3 documentos de 'video_views':\n",
            "\n",
            "{'_id': ObjectId('683dfda82d64dba076265475'),\n",
            " 'client': {'client_id': 'tg', 'client_name': 'Toon Goggles'},\n",
            " 'date': {'date_code': 20250509, 'full_date': '2025-05-09'},\n",
            " 'device': {'device_type_id': 'tv', 'device_type_name': 'TV'},\n",
            " 'location': {'country_code': 'US', 'country_name': 'United States'},\n",
            " 'media': {'category_name': 'N/A',\n",
            "           'media_id': 284074,\n",
            "           'media_name': 'Suzy and The Pothole',\n",
            "           'video_type': 'Episode'},\n",
            " 'partner': {'partner_id': 'viziosmartcast', 'partner_name': 'Vizio Smartcast'},\n",
            " 'platform': {'platform_id': 'html5', 'platform_name': 'HTML5'},\n",
            " 'seconds_elapsed': 358,\n",
            " 'user_id': '4c8f120a1d08d1d94ec21dabbc0b3549f26ab431'}\n",
            "\n",
            "--------------------------------------------------------------------------------\n",
            "\n",
            "{'_id': ObjectId('683dfda82d64dba076265476'),\n",
            " 'client': {'client_id': 'tg', 'client_name': 'Toon Goggles'},\n",
            " 'date': {'date_code': 20250502, 'full_date': '2025-05-02'},\n",
            " 'device': {'device_type_id': 'tv', 'device_type_name': 'TV'},\n",
            " 'location': {'country_code': 'JM', 'country_name': 'Jamaica'},\n",
            " 'media': {'category_name': 'N/A',\n",
            "           'media_id': 284023,\n",
            "           'media_name': 'Sneaky Hide-and-Seek',\n",
            "           'video_type': 'Episode'},\n",
            " 'partner': {'partner_id': 'roku', 'partner_name': 'Roku'},\n",
            " 'platform': {'platform_id': 'roku', 'platform_name': 'Roku'},\n",
            " 'seconds_elapsed': 310,\n",
            " 'user_id': 'bceef7f8a10e57f56e76fd87482a223a4a6259a4'}\n",
            "\n",
            "--------------------------------------------------------------------------------\n",
            "\n",
            "{'_id': ObjectId('683dfda82d64dba076265477'),\n",
            " 'client': {'client_id': 'tg', 'client_name': 'Toon Goggles'},\n",
            " 'date': {'date_code': 20250502, 'full_date': '2025-05-02'},\n",
            " 'device': {'device_type_id': 'tv', 'device_type_name': 'TV'},\n",
            " 'location': {'country_code': 'JM', 'country_name': 'Jamaica'},\n",
            " 'media': {'category_name': 'N/A',\n",
            "           'media_id': 284018,\n",
            "           'media_name': 'River Rescue',\n",
            "           'video_type': 'Episode'},\n",
            " 'partner': {'partner_id': 'roku', 'partner_name': 'Roku'},\n",
            " 'platform': {'platform_id': 'roku', 'platform_name': 'Roku'},\n",
            " 'seconds_elapsed': 330,\n",
            " 'user_id': 'bceef7f8a10e57f56e76fd87482a223a4a6259a4'}\n",
            "\n",
            "--------------------------------------------------------------------------------\n",
            "\n"
          ]
        }
      ],
      "source": [
        "from pprint import pprint\n",
        "\n",
        "# Traemos los primeros 3 documentos de la colección para ver que quedo bien (check que haya uuid_hashvalue, sessions, y metadata)\n",
        "print(\"Primeros 3 documentos de 'video_views':\\n\")\n",
        "\n",
        "for doc in db[\"video_views\"].find().limit(3):\n",
        "    pprint(doc)\n",
        "    print(\"\\n\" + \"-\"*80 + \"\\n\")\n"
      ]
    },
    {
      "cell_type": "markdown",
      "metadata": {
        "id": "pdlAU6kisnYB"
      },
      "source": [
        "**Creacion de Indices para mejorar la performance de las consultas que realizaremos en nuestra base de datos no relacional**"
      ]
    },
    {
      "cell_type": "code",
      "execution_count": null,
      "metadata": {
        "colab": {
          "base_uri": "https://localhost:8080/",
          "height": 35
        },
        "id": "rHw31cL9suIc",
        "outputId": "c7b2c929-0012-4142-8c1e-27151bc54576"
      },
      "outputs": [
        {
          "output_type": "execute_result",
          "data": {
            "text/plain": [
              "'client.client_name_1_media.media_name_1'"
            ],
            "application/vnd.google.colaboratory.intrinsic+json": {
              "type": "string"
            }
          },
          "metadata": {},
          "execution_count": 7
        }
      ],
      "source": [
        "# Índice por fecha (para filtrar por rango temporal en múltiples consultas)\n",
        "db.video_views.create_index(\"date.date_code\")\n",
        "# Acelera búsquedas como: videos vistos en los últimos 7 o 30 días\n",
        "\n",
        "# Índice compuesto por nombre y tipo de contenido (para top contenidos por tiempo visto)\n",
        "db.video_views.create_index([\n",
        "    (\"media.media_name\", 1),\n",
        "    (\"media.video_type\", 1)\n",
        "])\n",
        "# Mejora performance al agrupar o filtrar por media_name y video_type\n",
        "\n",
        "# Índice compuesto por cliente y fecha (para ver tiempo total por cliente en cierta fecha o periodo)\n",
        "db.video_views.create_index([\n",
        "    (\"client.client_name\", 1),\n",
        "    (\"date.date_code\", 1)\n",
        "])\n",
        "# Útil para agrupar por cliente y filtrar por fechas recientes\n",
        "\n",
        "# Índice por cliente y plataforma (para análisis conjunto de cliente y tipo de plataforma)\n",
        "db.video_views.create_index([\n",
        "    (\"client.client_name\", 1),\n",
        "    (\"platform.platform_name\", 1)\n",
        "])\n",
        "# Acelera consultas como: tiempo total visto por cliente y plataforma\n",
        "\n",
        "# Índice por cliente y título (para top títulos por cliente)\n",
        "db.video_views.create_index([\n",
        "    (\"client.client_name\", 1),\n",
        "    (\"media.media_name\", 1)\n",
        "])\n",
        "# Útil para identificar qué títulos son más vistos por cada cliente\n"
      ]
    },
    {
      "cell_type": "code",
      "source": [
        "#ver los indices que creamos para confirmar que hayan quedado bien//devuelve diccionario con clave (nombre de los indices) y valores (tiene los campos indezados y el tipo)\n",
        "\n",
        "from pprint import pprint\n",
        "\n",
        "pprint(db.video_views.index_information())\n"
      ],
      "metadata": {
        "colab": {
          "base_uri": "https://localhost:8080/"
        },
        "id": "feUbBDdLMqxq",
        "outputId": "174e9963-ce14-4e3a-9cc1-2c164de8f9c7"
      },
      "execution_count": null,
      "outputs": [
        {
          "output_type": "stream",
          "name": "stdout",
          "text": [
            "{'_id_': {'key': [('_id', 1)], 'v': 2},\n",
            " 'client.client_name_1_date.date_code_1': {'key': [('client.client_name', 1),\n",
            "                                                   ('date.date_code', 1)],\n",
            "                                           'v': 2},\n",
            " 'client.client_name_1_media.media_name_1': {'key': [('client.client_name', 1),\n",
            "                                                     ('media.media_name', 1)],\n",
            "                                             'v': 2},\n",
            " 'client.client_name_1_platform.platform_name_1': {'key': [('client.client_name',\n",
            "                                                            1),\n",
            "                                                           ('platform.platform_name',\n",
            "                                                            1)],\n",
            "                                                   'v': 2},\n",
            " 'date.date_code_1': {'key': [('date.date_code', 1)], 'v': 2},\n",
            " 'media.media_name_1_media.video_type_1': {'key': [('media.media_name', 1),\n",
            "                                                   ('media.video_type', 1)],\n",
            "                                           'v': 2}}\n"
          ]
        }
      ]
    },
    {
      "cell_type": "markdown",
      "metadata": {
        "id": "fKX5U5-Qmsdd"
      },
      "source": [
        "### **Coleccion media**"
      ]
    },
    {
      "cell_type": "code",
      "execution_count": null,
      "metadata": {
        "colab": {
          "base_uri": "https://localhost:8080/"
        },
        "id": "pLWTRNtktOC_",
        "outputId": "fca1ebef-a216-4db8-c0e2-bc3e3d9e8a02"
      },
      "outputs": [
        {
          "output_type": "stream",
          "name": "stdout",
          "text": [
            "Colección 'media' creada exitosamente.\n"
          ]
        }
      ],
      "source": [
        "# Paso 1: Leer todos los documentos desde dim_media\n",
        "media_docs = []\n",
        "\n",
        "for doc in db[\"dim_media\"].find({}):\n",
        "    # Extraer solo los campos relevantes\n",
        "    media_docs.append({\n",
        "        \"media_id\": doc.get(\"media_id\"),\n",
        "        \"media_name\": doc.get(\"media_name\"),\n",
        "        \"category_name\": doc.get(\"category_name\"),\n",
        "        \"video_type\": doc.get(\"video_type\")\n",
        "    })\n",
        "\n",
        "# Paso 2: Crear o reemplazar la colección media\n",
        "db[\"media\"].drop()  # Elimina si ya existía\n",
        "db[\"media\"].insert_many(media_docs)\n",
        "\n",
        "print(\"Colección 'media' creada exitosamente.\")\n"
      ]
    },
    {
      "cell_type": "code",
      "execution_count": null,
      "metadata": {
        "colab": {
          "base_uri": "https://localhost:8080/"
        },
        "id": "TUjzcvSQtS5n",
        "outputId": "d399f2bb-1945-48f9-b217-d37008e6f24b"
      },
      "outputs": [
        {
          "output_type": "stream",
          "name": "stdout",
          "text": [
            "Primeros documentos en 'media':\n",
            "{'_id': ObjectId('683e00f52d64dba076299da8'),\n",
            " 'category_name': 'Unknown',\n",
            " 'media_id': -99,\n",
            " 'media_name': 'Unknown',\n",
            " 'video_type': 'Unknown'}\n",
            "{'_id': ObjectId('683e00f52d64dba076299da9'),\n",
            " 'category_name': 'Drama',\n",
            " 'media_id': 464,\n",
            " 'media_name': 'MSROUT1',\n",
            " 'video_type': 'Feature'}\n",
            "{'_id': ObjectId('683e00f52d64dba076299daa'),\n",
            " 'category_name': 'Comedia',\n",
            " 'media_id': 458,\n",
            " 'media_name': 'MSGIRL1',\n",
            " 'video_type': 'Feature'}\n"
          ]
        }
      ],
      "source": [
        "#Verifico\n",
        "from pprint import pprint\n",
        "\n",
        "print(\"Primeros documentos en 'media':\")\n",
        "for doc in db[\"media\"].find().limit(3):\n",
        "    pprint(doc)\n"
      ]
    },
    {
      "cell_type": "markdown",
      "metadata": {
        "id": "Bd40q4aQt_wT"
      },
      "source": [
        "**Creacion de indices para acelerar consultas**"
      ]
    },
    {
      "cell_type": "code",
      "execution_count": null,
      "metadata": {
        "colab": {
          "base_uri": "https://localhost:8080/",
          "height": 35
        },
        "id": "EtmqSywTt_Nt",
        "outputId": "54fd25b7-34ec-48f7-8a8e-d1914d8e07a3"
      },
      "outputs": [
        {
          "output_type": "execute_result",
          "data": {
            "text/plain": [
              "'video_type_1_category_name_1'"
            ],
            "application/vnd.google.colaboratory.intrinsic+json": {
              "type": "string"
            }
          },
          "metadata": {},
          "execution_count": 12
        }
      ],
      "source": [
        "# Buscar contenido por nombre\n",
        "db.media.create_index(\"media_name\")\n",
        "\n",
        "# Buscar por categoria\n",
        "db.media.create_index(\"category_name\")\n",
        "\n",
        "# Combinacion para filtros + complejos\n",
        "db.media.create_index([(\"video_type\", 1), (\"category_name\", 1)])\n"
      ]
    },
    {
      "cell_type": "code",
      "source": [
        "#ver los indices que creamos para confirmar que hayan quedado bien//devuelve diccionario con clave (nombre de los indices) y valores (tiene los campos indezados y el tipo)\n",
        "\n",
        "from pprint import pprint\n",
        "\n",
        "pprint(db.media.index_information())\n"
      ],
      "metadata": {
        "id": "An8L12asNYxj"
      },
      "execution_count": null,
      "outputs": []
    },
    {
      "cell_type": "markdown",
      "metadata": {
        "id": "sadq6SJZmlni"
      },
      "source": [
        "### **Coleccion users**\n",
        "\n",
        "usaremos la fact_vod_uu_details para obtener uuid_hashvalue (ID unico de cada usuario) y dim_country para obtener el pais de cada usuario y dim_device para obtener el o los dispositivos a traves de los cuales utilizan el servicio."
      ]
    },
    {
      "cell_type": "code",
      "source": [
        "#db[\"users\"].drop()"
      ],
      "metadata": {
        "id": "b47O3hAg2pxz"
      },
      "execution_count": null,
      "outputs": []
    },
    {
      "cell_type": "markdown",
      "source": [
        "Resumen: Creación de la colección users a partir de fact_vod_uu_details\n",
        "Este código crea una nueva colección en MongoDB llamada users, donde cada documento representa a un usuario único identificado por el campo uuid_hashvalue. Para cada usuario, se recopilan:\n",
        "\n",
        "- Todos los códigos de país distintos desde los que se ha conectado (countries)\n",
        "\n",
        "- Todos los tipos de dispositivos distintos que ha utilizado (devices)\n",
        "\n",
        "A diferencia de la colección video_views, que transformaba cada documento de forma individual usando bucles en Python, este caso requiere agrupar múltiples registros en uno solo por usuario. Por eso utilizamos la etapa de agregación (aggregation pipeline) de MongoDB, que es más eficiente para:\n",
        "\n",
        "- Agrupar los datos directamente en el servidor\n",
        "\n",
        "- Eliminar duplicados automáticamente usando $addToSet\n",
        "\n",
        "- Generar resultados más limpios y rápidos, especialmente con grandes volúmenes de datos\n",
        "\n",
        "- Este enfoque es más escalable y performante que construir los documentos manualmente con Python."
      ],
      "metadata": {
        "id": "XxEbJCb637Fi"
      }
    },
    {
      "cell_type": "code",
      "execution_count": null,
      "metadata": {
        "colab": {
          "base_uri": "https://localhost:8080/"
        },
        "id": "130avFFkmoZl",
        "outputId": "eee8059b-c35b-43ba-9bd7-08a7785a0ee4"
      },
      "outputs": [
        {
          "output_type": "stream",
          "name": "stdout",
          "text": [
            "Total de documentos de usuario a insertar: 34769\n",
            "La colección 'users' se ha creado exitosamente.\n"
          ]
        }
      ],
      "source": [
        "# Nos conectamos nuevamente a MongoDB (por si hubo una desconexión anterior)\n",
        "from pymongo import MongoClient\n",
        "\n",
        "# Parámetros de conexión\n",
        "usuario = \"lab_user\"\n",
        "password = \"bdnr2025\"\n",
        "host = \"bdnr-2025-auriello-moli.u17itbj.mongodb.net\"\n",
        "db_name = \"tarea_final\"\n",
        "\n",
        "# URI de conexión a MongoDB Atlas\n",
        "uri = f\"mongodb+srv://{usuario}:{password}@{host}/{db_name}?retryWrites=true&w=majority&appName=bdnr-2025-auriello-molina\"\n",
        "\n",
        "# Crear cliente y acceder a la base de datos\n",
        "client = MongoClient(uri)\n",
        "db = client[db_name]\n",
        "\n",
        "# Eliminamos la colección 'users' si ya existe, para evitar duplicados al volver a ejecutar\n",
        "db[\"users\"].drop()\n",
        "\n",
        "# Definimos el pipeline de agregación\n",
        "# Paso 1: Agrupar todos los registros por usuario (uuid_hashvalue)\n",
        "# Paso 2: Usar $addToSet para reunir valores únicos de país y tipo de dispositivo\n",
        "# Paso 3: Proyectar el resultado final con formato deseado (cambiando _id a user_id)\n",
        "pipeline = [\n",
        "    {\n",
        "        \"$group\": {\n",
        "            \"_id\": \"$uuid_hashvalue\",                     # Agrupar por usuario\n",
        "            \"countries\": {\"$addToSet\": \"$country_code\"},  # Lista de países únicos\n",
        "            \"devices\": {\"$addToSet\": \"$device_type_name\"} # Lista de dispositivos únicos\n",
        "        }\n",
        "    },\n",
        "    {\n",
        "        \"$project\": {\n",
        "            \"_id\": 0,             # Excluir el campo _id original\n",
        "            \"user_id\": \"$_id\",    # Renombrar el campo de agrupamiento a user_id\n",
        "            \"countries\": 1,       # Incluir campo countries\n",
        "            \"devices\": 1          # Incluir campo devices\n",
        "        }\n",
        "    }\n",
        "]\n",
        "\n",
        "# Ejecutamos la agregación sobre la colección original\n",
        "user_docs = list(db[\"fact_vod_uu_details\"].aggregate(pipeline))\n",
        "\n",
        "# Mostramos cuántos documentos se generaron\n",
        "print(f\"Total de documentos de usuario a insertar: {len(user_docs)}\")\n",
        "\n",
        "# Insertamos los documentos transformados en la nueva colección 'users'\n",
        "if user_docs:\n",
        "    db[\"users\"].insert_many(user_docs)\n",
        "    print(\"La colección 'users' se ha creado exitosamente.\")\n",
        "else:\n",
        "    print(\"No se encontraron documentos de usuario para insertar.\")\n"
      ]
    },
    {
      "cell_type": "code",
      "execution_count": null,
      "metadata": {
        "colab": {
          "base_uri": "https://localhost:8080/"
        },
        "id": "Rue85EXXtt2U",
        "outputId": "f5ee73b6-5f6e-40b7-ebf7-689474e89d4c"
      },
      "outputs": [
        {
          "output_type": "stream",
          "name": "stdout",
          "text": [
            "Primeros documentos en 'users':\n",
            "{'_id': ObjectId('683f337fba2c293516e0b38a'),\n",
            " 'countries': ['CM'],\n",
            " 'devices': ['TV'],\n",
            " 'user_id': '437b0a3476be144dd7796736a27ade8b1125de56'}\n",
            "{'_id': ObjectId('683f337fba2c293516e0b38b'),\n",
            " 'countries': ['VE'],\n",
            " 'devices': ['TV'],\n",
            " 'user_id': '3a316754b4bad1bbc5e6402b4f87863812bee98b'}\n",
            "{'_id': ObjectId('683f337fba2c293516e0b38c'),\n",
            " 'countries': ['US'],\n",
            " 'devices': ['TV'],\n",
            " 'user_id': '8f2c09ec8166f85ab2860aa0fd19d65b3e41db45'}\n"
          ]
        }
      ],
      "source": [
        "from pprint import pprint\n",
        "\n",
        "print(\"Primeros documentos en 'users':\")\n",
        "for doc in db[\"users\"].find().limit(3):\n",
        "    pprint(doc)\n"
      ]
    },
    {
      "cell_type": "markdown",
      "metadata": {
        "id": "PwE15MOnuF_r"
      },
      "source": [
        "Creacion de indices para acelerar consultas"
      ]
    },
    {
      "cell_type": "code",
      "execution_count": null,
      "metadata": {
        "colab": {
          "base_uri": "https://localhost:8080/",
          "height": 35
        },
        "id": "FQCvYc3QuFiv",
        "outputId": "5d2426f2-a2b4-4cc3-f2d0-c28a8a5c873d"
      },
      "outputs": [
        {
          "output_type": "execute_result",
          "data": {
            "text/plain": [
              "'devices_1'"
            ],
            "application/vnd.google.colaboratory.intrinsic+json": {
              "type": "string"
            }
          },
          "metadata": {},
          "execution_count": 8
        }
      ],
      "source": [
        "# Buscar usuario por ID (uuid_hashvalue)\n",
        "db.users.create_index(\"user_id\")\n",
        "\n",
        "# Filtrar por país\n",
        "db.users.create_index(\"countries\")  # array field, para queries tipo $in\n",
        "\n",
        "# Buscar por tipo de dispositivo\n",
        "db.users.create_index(\"devices\")  # tambien array\n"
      ]
    },
    {
      "cell_type": "code",
      "source": [
        "# Verificar los índices creados en la colección 'users'\n",
        "index_info = db[\"users\"].index_information()\n",
        "\n",
        "# Mostrar los índices en forma legible\n",
        "print(\"Índices actuales en la colección 'users':\")\n",
        "for index_name, index_data in index_info.items():\n",
        "    print(f\"- Nombre del índice: {index_name}\")\n",
        "    print(f\"  Definición del índice: {index_data['key']}\")\n",
        "    print()\n"
      ],
      "metadata": {
        "colab": {
          "base_uri": "https://localhost:8080/"
        },
        "id": "U1Hx1Z_I4qcH",
        "outputId": "923a23a9-9e17-4782-a186-122696755f4f"
      },
      "execution_count": null,
      "outputs": [
        {
          "output_type": "stream",
          "name": "stdout",
          "text": [
            "Índices actuales en la colección 'users':\n",
            "- Nombre del índice: _id_\n",
            "  Definición del índice: [('_id', 1)]\n",
            "\n",
            "- Nombre del índice: user_id_1\n",
            "  Definición del índice: [('user_id', 1)]\n",
            "\n",
            "- Nombre del índice: countries_1\n",
            "  Definición del índice: [('countries', 1)]\n",
            "\n",
            "- Nombre del índice: devices_1\n",
            "  Definición del índice: [('devices', 1)]\n",
            "\n"
          ]
        }
      ]
    },
    {
      "cell_type": "markdown",
      "source": [
        "# Consultas en MongoDB a nuestra base de datos no relacional"
      ],
      "metadata": {
        "id": "fTLoQiIk4fpw"
      }
    },
    {
      "cell_type": "markdown",
      "source": [
        "Query Original en SQL:\n",
        "```\n",
        "SELECT\n",
        "    dm.video_type,\n",
        "    dm.media_name,\n",
        "    SUM(fvd.seconds_elapsed) AS total_seconds\n",
        "FROM\n",
        "    fact_vod_uu_details fvd\n",
        "JOIN dim_media dm ON fvd.dim_media_id = dm.id\n",
        "JOIN dim_date dd ON fvd.dim_date_code = dd.date_code\n",
        "WHERE\n",
        "    dd.full_date BETWEEN '20250501' AND '20250510'\n",
        "    AND dm.client_id = 'tg'\n",
        "    AND dm.video_type != 'Linear'\n",
        "GROUP BY\n",
        "    dm.video_type, dm.media_name\n",
        "ORDER BY\n",
        "    total_seconds DESC\n",
        "LIMIT 10\n",
        "\n",
        "```\n",
        "\n"
      ],
      "metadata": {
        "id": "UVGfZeV38_n2"
      }
    },
    {
      "cell_type": "code",
      "source": [
        "# Consulta 1: Aggregate total_seconds por video_type y media_name\n",
        "pipeline = [\n",
        "    {\n",
        "        \"$match\": {\n",
        "            \"client.client_id\": \"tg\"\n",
        "        }\n",
        "    },\n",
        "    {\n",
        "        \"$group\": {\n",
        "            \"_id\": \"$media.media_name\",\n",
        "            \"total_seconds\": { \"$sum\": \"$seconds_elapsed\" }\n",
        "        }\n",
        "    },\n",
        "    {\n",
        "        \"$project\": {\n",
        "            \"_id\": 0,\n",
        "            \"media_name\": \"$_id\",\n",
        "            \"total_seconds\": 1\n",
        "        }\n",
        "    },\n",
        "    {\n",
        "        \"$sort\": {\n",
        "            \"total_seconds\": -1\n",
        "        }\n",
        "    },\n",
        "    {\n",
        "        \"$limit\": 10\n",
        "    }\n",
        "]\n",
        "\n",
        "# Ejecutamos el pipeline\n",
        "results = db.video_views.aggregate(pipeline)\n",
        "\n",
        "# Paso 2: Mostramos los resultados\n",
        "print(\"Top 10 contenidos por tiempo visto:\")\n",
        "for doc in results:\n",
        "    media_name = doc[\"media_name\"]\n",
        "    total_seconds = doc[\"total_seconds\"]\n",
        "    print(f\"{media_name} => {total_seconds} segundos\")"
      ],
      "metadata": {
        "id": "en8uwSgn4jtT",
        "colab": {
          "base_uri": "https://localhost:8080/"
        },
        "outputId": "97a38718-8356-4ab5-c6c3-d307aed235ed"
      },
      "execution_count": 2,
      "outputs": [
        {
          "output_type": "stream",
          "name": "stdout",
          "text": [
            "Top 10 contenidos por tiempo visto:\n",
            "My Little Pony Equestria Girls: Rainbow Rocks => 3542125 segundos\n",
            "Fire-Breathing Magic Dinosaur => 876877 segundos\n",
            "Merry-go-round => 867021 segundos\n",
            "Diamond Dog Caper => 830416 segundos\n",
            "Beat the Raccoon => 636846 segundos\n",
            "Pirates of Love => 614098 segundos\n",
            "Magic wand => 588624 segundos\n",
            "End of Year Special - Bubu and the Little Owls => 571157 segundos\n",
            "The Missing Hero Crystal => 553976 segundos\n",
            "Holidays Forever Compilation => 551834 segundos\n"
          ]
        }
      ]
    },
    {
      "cell_type": "markdown",
      "source": [
        "Consulta Original:\n",
        "\n",
        "\n",
        "\n",
        "```\n",
        "SELECT\n",
        "    dc.client_name,\n",
        "    SUM(fvd.seconds_elapsed) AS total_seconds\n",
        "FROM\n",
        "    prod.fact_vod_uu_details fvd\n",
        "JOIN prod.dim_client AS dc ON fvd.dim_client_id = dc.id\n",
        "JOIN prod.dim_date AS dd ON fvd.dim_date_code = dd.date_code\n",
        "INNER JOIN prod.dim_media AS m ON m.id=fvd.dim_media_id\n",
        "WHERE\n",
        "    dd.full_date BETWEEN '20250501' and '20250510'\n",
        "    AND dc.client_id='tg'\n",
        "    AND m.video_type!='Linear'\n",
        "GROUP BY\n",
        "    dc.client_name\n",
        "ORDER BY\n",
        "    total_seconds DESC\n",
        "```\n",
        "\n"
      ],
      "metadata": {
        "id": "r2OIjnJiJZYM"
      }
    },
    {
      "cell_type": "code",
      "source": [
        "##Consulta2\n",
        "pipeline = [\n",
        "    {\n",
        "        \"$match\": {\n",
        "            \"client.client_id\": \"tg\"\n",
        "        }\n",
        "    },\n",
        "    {\n",
        "        \"$group\": {\n",
        "            \"_id\": \"$client.client_name\",\n",
        "            \"total_seconds\": { \"$sum\": \"$seconds_elapsed\" }\n",
        "        }\n",
        "    },\n",
        "    {\n",
        "        \"$project\": {\n",
        "            \"_id\": 0,\n",
        "            \"client_name\": \"$_id\",\n",
        "            \"total_seconds\": 1\n",
        "        }\n",
        "    },\n",
        "    {\n",
        "        \"$sort\": {\n",
        "            \"total_seconds\": -1\n",
        "        }\n",
        "    },\n",
        "    {\n",
        "        \"$limit\": 10\n",
        "    }\n",
        "]\n",
        "\n",
        "# Ejecutamos el pipeline\n",
        "results = db.video_views.aggregate(pipeline)\n",
        "\n",
        "# Paso 2: Mostramos los resultados\n",
        "print(\"Top 10 clientes por tiempo visto:\")\n",
        "for doc in results:\n",
        "    client_name = doc[\"client_name\"]\n",
        "    total_seconds = doc[\"total_seconds\"]\n",
        "    print(f\"{client_name} => {total_seconds} segundos\")"
      ],
      "metadata": {
        "id": "8KpLPalJ4lNF",
        "colab": {
          "base_uri": "https://localhost:8080/"
        },
        "outputId": "794b6a9f-f9e3-40f7-ac54-d4dac779cc1a"
      },
      "execution_count": 3,
      "outputs": [
        {
          "output_type": "stream",
          "name": "stdout",
          "text": [
            "Top 10 clientes por tiempo visto:\n",
            "Toon Goggles => 92363525 segundos\n"
          ]
        }
      ]
    },
    {
      "cell_type": "markdown",
      "source": [
        "Consulta Original SQL:\n",
        "\n",
        "\n",
        "\n",
        "```\n",
        "SELECT\n",
        "    dd.full_date,\n",
        "    COUNT(DISTINCT uuid_hashvalue) AS total_users\n",
        "FROM\n",
        "    prod.fact_vod_uu_details AS fvd\n",
        "\n",
        "INNER JOIN prod.dim_date dd ON fvd.dim_date_code = dd.date_code\n",
        "INNER JOIN prod.dim_client AS c ON c.id=fvd.dim_client_id\n",
        "INNER JOIN prod.dim_media AS m ON m.id=fvd.dim_media_id\n",
        "\n",
        "WHERE\n",
        "dd.full_date BETWEEN '20250501' AND '20250510'\n",
        "AND c.client_id='tg'\n",
        "AND m.video_type!='Linear'\n",
        "\n",
        "GROUP BY\n",
        "    dd.full_date\n",
        "ORDER BY\n",
        "    dd.full_date ASC;\n",
        "```\n",
        "\n"
      ],
      "metadata": {
        "id": "keOBjzqnK9Hw"
      }
    },
    {
      "cell_type": "code",
      "source": [
        "#Consulta 3\n",
        "pipeline = [\n",
        "    {\n",
        "        \"$match\": {\n",
        "            \"client_id\": \"tg\",\n",
        "            \"video_type\": { \"$ne\": \"Linear\" }\n",
        "        }\n",
        "    },\n",
        "    # Agrupamos por full_date y uuid_hashvalue para obtener combinaciones únicas\n",
        "    {\n",
        "        \"$group\": {\n",
        "            \"_id\": {\n",
        "                \"full_date\": \"$full_date\",\n",
        "                \"uuid\": \"$uuid_hashvalue\"\n",
        "            }\n",
        "        }\n",
        "    },\n",
        "    # Agrupamos por full_date y contamos los uuid únicos\n",
        "    {\n",
        "        \"$group\": {\n",
        "            \"_id\": \"$_id.full_date\",\n",
        "            \"unique_users\": { \"$sum\": 1 }\n",
        "        }\n",
        "    },\n",
        "    # Formateamos la salida\n",
        "    {\n",
        "        \"$project\": {\n",
        "            \"_id\": 0,\n",
        "            \"full_date\": \"$_id\",\n",
        "            \"unique_users\": 1\n",
        "        }\n",
        "    },\n",
        "    # Orden cronológico\n",
        "    {\n",
        "        \"$sort\": {\n",
        "            \"full_date\": 1\n",
        "        }\n",
        "    }\n",
        "]\n",
        "\n",
        "results = db.fact_vod_uu_details.aggregate(pipeline)\n",
        "\n",
        "for doc in results:\n",
        "    print(f\"{doc['full_date']} => {doc['unique_users']} unique users\")\n"
      ],
      "metadata": {
        "colab": {
          "base_uri": "https://localhost:8080/"
        },
        "id": "by_95E_YDzVN",
        "outputId": "e5250a1f-ac57-4203-cd4e-342d379db4b7"
      },
      "execution_count": 4,
      "outputs": [
        {
          "output_type": "stream",
          "name": "stdout",
          "text": [
            "2025-05-01 => 5729 unique users\n",
            "2025-05-02 => 4530 unique users\n",
            "2025-05-03 => 4866 unique users\n",
            "2025-05-04 => 4546 unique users\n",
            "2025-05-05 => 3957 unique users\n",
            "2025-05-06 => 3914 unique users\n",
            "2025-05-07 => 4009 unique users\n",
            "2025-05-08 => 4092 unique users\n",
            "2025-05-09 => 4189 unique users\n",
            "2025-05-10 => 4843 unique users\n"
          ]
        }
      ]
    },
    {
      "cell_type": "markdown",
      "source": [
        "Consulta Original SQL\n",
        "\n",
        "\n",
        "\n",
        "```\n",
        "SELECT\n",
        "    dc.client_name,\n",
        "    dp.partner_name,\n",
        "    SUM(fvd.seconds_elapsed) AS total_seconds\n",
        "FROM\n",
        "    prod.fact_vod_uu_details AS fvd\n",
        "\n",
        "INNER JOIN prod.dim_date AS dd ON dd.date_code=fvd.dim_date_code\n",
        "INNER JOIN prod.dim_client dc ON fvd.dim_client_id = dc.id\n",
        "INNER JOIN prod.dim_media AS m ON m.id=fvd.dim_media_id\n",
        "INNER JOIN prod.dim_partner dp ON fvd.dim_partner_id = dp.id\n",
        "\n",
        "WHERE\n",
        "dd.full_date BETWEEN '20250501' AND '20250510'\n",
        "AND dc.client_id='tg'\n",
        "AND m.video_type!='Linear'\n",
        "```\n",
        "\n"
      ],
      "metadata": {
        "id": "vojvZ_8umlyG"
      }
    },
    {
      "cell_type": "code",
      "source": [
        "#Consulta 4\n",
        "pipeline = [\n",
        "    {\n",
        "        \"$group\": {\n",
        "            \"_id\": {\n",
        "                \"client_name\": \"$client_name\",\n",
        "                \"partner_name\": \"$partner_name\"\n",
        "            },\n",
        "            \"total_seconds\": { \"$sum\": \"$seconds_watched\" }\n",
        "        }\n",
        "    },\n",
        "    {\n",
        "        \"$project\": {\n",
        "            \"_id\": 0,\n",
        "            \"client_name\": \"$_id.client_name\",\n",
        "            \"partner_name\": \"$_id.partner_name\",\n",
        "            \"total_seconds\": 1\n",
        "        }\n",
        "    },\n",
        "    {\n",
        "        \"$sort\": {\n",
        "            \"total_seconds\": -1\n",
        "        }\n",
        "    },\n",
        "    {\n",
        "        \"$limit\": 10\n",
        "    }\n",
        "]\n",
        "\n",
        "\n",
        "results = db.fact_vod_uu_details.aggregate(pipeline)\n",
        "\n",
        "for doc in results:\n",
        "    print(f\"{doc['client_name']} => {doc['partner_name']}, {doc['total_seconds']}\")"
      ],
      "metadata": {
        "colab": {
          "base_uri": "https://localhost:8080/"
        },
        "id": "cqvLTcpm9DrX",
        "outputId": "a8c6fef1-e14e-44a4-e4d8-5d1d16e93594"
      },
      "execution_count": null,
      "outputs": [
        {
          "output_type": "stream",
          "name": "stdout",
          "text": [
            "Toon Goggles => Hisense, 27459163\n",
            "Toon Goggles => Roku, 13100312\n",
            "Toon Goggles => Vizio Smartcast, 9557878\n",
            "Toon Goggles => TCL, 9469610\n",
            "Toon Goggles => M Star, 7468756\n",
            "Toon Goggles => General Android, 4024805\n",
            "Toon Goggles => Philips, 3668155\n",
            "Toon Goggles => Unknown, 2898904\n",
            "Toon Goggles => General HTML5, 1845031\n",
            "Toon Goggles => Hisense Legacy, 1665119\n"
          ]
        }
      ]
    }
  ],
  "metadata": {
    "colab": {
      "provenance": []
    },
    "kernelspec": {
      "display_name": "Python 3",
      "name": "python3"
    },
    "language_info": {
      "name": "python"
    }
  },
  "nbformat": 4,
  "nbformat_minor": 0
}